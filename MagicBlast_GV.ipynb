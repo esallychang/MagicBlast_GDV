{
 "cells": [
  {
   "cell_type": "markdown",
   "id": "a78de177-c3ca-45e3-86b2-cc92c0bc82aa",
   "metadata": {
    "tags": []
   },
   "source": [
    "# Analyzing & Visualizing NextGen Reads with Magic-BLAST\n",
    "\n",
    "This Jupyter Notebook contains the background and instructions for the hands-on exercises of this workshop:\n",
    "\n",
    "* [Introduction](#Introduction)\n",
    "* [Objective 1 - Identify variation in SARS-Cov-2 samples using MagicBlast + Sequence Viewer](#Objective-1) \n",
    "* [Objective 2 - Assess genome completeness and content from SRA read data](#Objective-2)\n",
    "* [Objective 3 - Align RNAseq data to reference and visualize transcript coverage and diversity  ](#Objective-3)"
   ]
  },
  {
   "cell_type": "markdown",
   "id": "091568c5-56d8-4241-b56f-8dcb33da45d2",
   "metadata": {
    "jp-MarkdownHeadingCollapsed": true,
    "tags": []
   },
   "source": [
    "# Introduction\n",
    "\n",
    "**Placeholder Text from Webpage**: Next generation sequencing (next-gen) has become the standard method for obtaining genomic and transcriptomic sequences; however analysis of the large number of short reads can be complicated and requires specialized software.  NCBI has developed a variation of the BLAST algorithm, Magic-BLAST, to align next-gen reads to a reference nucleotide sequence.  You can import the read alignment results from Magic-BLAST into one of NCBI’s genome browsers to visualize them alongside your choice of hundreds of other NCBI annotation tracks.  Thus, without having to go through a sequence assembly step, you can quickly assess the sequence set for genetic variations and map potential gene annotations.\n",
    "\n",
    "This workshop is designed for researchers already working with next-gen data and performing DNAseq or RNAseq experiments who use command-line tools for bioinformatic analysis\n",
    "\n",
    "## **Case Studies**\n",
    "\n"
   ]
  },
  {
   "cell_type": "markdown",
   "id": "23d75b52-e720-4fec-93da-90bc56ab9814",
   "metadata": {
    "jp-MarkdownHeadingCollapsed": true,
    "tags": []
   },
   "source": [
    "# Objective 1 - Identify variation in SARS-Cov-2 samples using MagicBlast + Sequence Viewer <a class=\"anchor\" id=\"Objective-1\"></a>\n",
    "\n",
    "## **Objective Goals**\n",
    "\n",
    "1. Fill \n",
    "2. In \n",
    "3. Here"
   ]
  },
  {
   "cell_type": "markdown",
   "id": "518c90d4-d0dd-42a9-bb8a-7d04912ab47a",
   "metadata": {
    "jp-MarkdownHeadingCollapsed": true,
    "tags": []
   },
   "source": [
    "# Objective 2 - Assess genome completeness and content from SRA read data <a class=\"anchor\" id=\"Objective-2\"></a>\n",
    "\n",
    "## **Objective Goals**\n",
    "\n",
    "1. Fill \n",
    "2. In \n",
    "3. Here"
   ]
  },
  {
   "cell_type": "markdown",
   "id": "3cf2db62-9e91-4ca5-ae26-db0f8f2e37a7",
   "metadata": {
    "tags": []
   },
   "source": [
    "# Objective 3 - Align RNAseq data to reference and visualize transcript coverage and diversity <a class=\"anchor\" id=\"Objective-3\"></a>\n",
    "\n",
    "## **Objective Goals**\n",
    "\n",
    "1. Identify an RNAseq SRA dataset of interest and use magic-BLAST to align it to a reference.\n",
    "2. Use the Genome Data Viewer to compare RNAseq alignment to NCBI annotation tracks.\n",
    "3. Visualize web-BLAST results in GDV to learn about our gene of interest in other species. "
   ]
  },
  {
   "cell_type": "markdown",
   "id": "ace15586-865a-475a-867c-0300c90e7af5",
   "metadata": {},
   "source": [
    "**Goal 1a: Identify an RNAseq SRA dataset of interest on GEO**"
   ]
  },
  {
   "cell_type": "markdown",
   "id": "67498b48-d2c2-4b34-bcf0-6f8107907c53",
   "metadata": {
    "tags": []
   },
   "source": [
    "### **Goal 1b: Use magic-BLAST to align chosen SRAs to reference sequence**\n",
    "\n",
    "Above, we identified two RNAseq SRA data sets we would like to map to the region of the human genome containing the LMNA gene: SRR7062973 (our control sample), and SRR7062975 (our HGPS sample). \n",
    "\n",
    "**Step 1: Download the region of the current human genome assembly containing the LMNA gene**\n",
    "\n",
    "Looking at the Gene Page for the LMNA gene, we can see that the LMNA gene occupies base pairs 156082573 to 156140081 on Human Chromosome 1. Because we want to learn about the genes in the surrounding region as well, we are also going to extract a larger surrounding region around the LMNA gene. The following `efetch` command will extract this region into a FASTA-formatted file. \n",
    "\n",
    "Here is a brief explanation relevant parts of this command that you can be modified:<br>\n",
    "`-db`:<br>\n",
    "`-id`:<br>\n",
    "`-format`:<br> \n",
    "`-seq_start`:<br> \n",
    "`-seq_stop`:<br> \n",
    "`> NC_000001_LMNA_Region.fasta`:<br> "
   ]
  },
  {
   "cell_type": "code",
   "execution_count": 2,
   "id": "c08c4ea2-c5ce-4060-8a8d-a7f198acfe2c",
   "metadata": {},
   "outputs": [],
   "source": [
    "efetch -db nuccore -id NC_000001 -format fasta -seq_start 156070000 -seq_stop 156150000 > NC_000001_LMNA_Region.fasta"
   ]
  },
  {
   "cell_type": "markdown",
   "id": "e522209b-cb95-4ef9-9961-8ab37bb91423",
   "metadata": {},
   "source": [
    "**Step 2: Create LMNA region BLAST database**\n",
    "\n",
    "Now that we have the region downloaded in FASTA format, we can use the BLAST utility `makeblastdb` to create a BLAST-formatted database from the file, using the following command: "
   ]
  },
  {
   "cell_type": "code",
   "execution_count": 3,
   "id": "47321c8d-72e6-459a-b5b9-9aa733bc468b",
   "metadata": {},
   "outputs": [
    {
     "name": "stdout",
     "output_type": "stream",
     "text": [
      "\n",
      "\n",
      "Building a new DB, current time: 11/07/2022 16:12:19\n",
      "New DB name:   /home/jupyter-sally.chang/Human_Chr1_Region\n",
      "New DB title:  NC_000001_region.fa\n",
      "Sequence type: Nucleotide\n",
      "Keep MBits: T\n",
      "Maximum file size: 3000000000B\n",
      "Adding sequences from FASTA; added 1 sequences in 0.101484 seconds.\n",
      "\n",
      "\n"
     ]
    }
   ],
   "source": [
    "makeblastdb -in NC_000001_LMNA_Region.fasta -out Human_Chr1_Region -parse_seqids -dbtype nucl"
   ]
  },
  {
   "cell_type": "markdown",
   "id": "64c16f3d-36d0-4d66-8fb1-20c74db9d95d",
   "metadata": {},
   "source": [
    "### **Goal 1c: Prepare magic-BLAST results for visualization**"
   ]
  }
 ],
 "metadata": {
  "kernelspec": {
   "display_name": "Bash",
   "language": "bash",
   "name": "bash"
  },
  "language_info": {
   "codemirror_mode": "shell",
   "file_extension": ".sh",
   "mimetype": "text/x-sh",
   "name": "bash"
  }
 },
 "nbformat": 4,
 "nbformat_minor": 5
}
